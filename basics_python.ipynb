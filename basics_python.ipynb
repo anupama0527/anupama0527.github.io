{
  "nbformat": 4,
  "nbformat_minor": 0,
  "metadata": {
    "colab": {
      "provenance": [],
      "authorship_tag": "ABX9TyOyrmWs8QUTRf68okQgV6bC",
      "include_colab_link": true
    },
    "kernelspec": {
      "name": "python3",
      "display_name": "Python 3"
    },
    "language_info": {
      "name": "python"
    }
  },
  "cells": [
    {
      "cell_type": "markdown",
      "metadata": {
        "id": "view-in-github",
        "colab_type": "text"
      },
      "source": [
        "<a href=\"https://colab.research.google.com/github/anupama0527/anupama0527.github.io/blob/main/basics_python.ipynb\" target=\"_parent\"><img src=\"https://colab.research.google.com/assets/colab-badge.svg\" alt=\"Open In Colab\"/></a>"
      ]
    },
    {
      "cell_type": "code",
      "execution_count": null,
      "metadata": {
        "id": "7dZOVV0KFSoG"
      },
      "outputs": [],
      "source": []
    },
    {
      "cell_type": "markdown",
      "source": [
        "basics of python\n"
      ],
      "metadata": {
        "id": "YT7ZbsJOF8IA"
      }
    },
    {
      "cell_type": "code",
      "source": [
        "print(\"hello world!\")\n"
      ],
      "metadata": {
        "colab": {
          "base_uri": "https://localhost:8080/"
        },
        "id": "RRJ606tbGCfh",
        "outputId": "2eb32d9a-63c9-4ab3-a7f0-7e1abf09dba3"
      },
      "execution_count": null,
      "outputs": [
        {
          "output_type": "stream",
          "name": "stdout",
          "text": [
            "hello world!\n"
          ]
        }
      ]
    },
    {
      "cell_type": "code",
      "source": [
        "print(\"hello\\nworld\")"
      ],
      "metadata": {
        "colab": {
          "base_uri": "https://localhost:8080/"
        },
        "id": "Zr7bG5jiG3Va",
        "outputId": "ad3ba119-eb41-4920-f3ca-00ea005dbbb3"
      },
      "execution_count": null,
      "outputs": [
        {
          "output_type": "stream",
          "name": "stdout",
          "text": [
            "hello\n",
            "world\n"
          ]
        }
      ]
    },
    {
      "cell_type": "code",
      "source": [
        "print(\" first line \\n second line\\n third line\")"
      ],
      "metadata": {
        "colab": {
          "base_uri": "https://localhost:8080/"
        },
        "id": "cbRZ7MzRHaMV",
        "outputId": "fe6756cc-7d24-4a1e-cab8-86f4115e141f"
      },
      "execution_count": null,
      "outputs": [
        {
          "output_type": "stream",
          "name": "stdout",
          "text": [
            " first line \n",
            " second line\n",
            " third line\n"
          ]
        }
      ]
    },
    {
      "cell_type": "code",
      "source": [
        "print(\"\"\"first line \n",
        "second line \n",
        "thrid line\"\"\")"
      ],
      "metadata": {
        "colab": {
          "base_uri": "https://localhost:8080/"
        },
        "id": "iZCyaj1SIJMN",
        "outputId": "a4b016f2-ed0b-43cc-8b1b-5de73bf42bbc"
      },
      "execution_count": null,
      "outputs": [
        {
          "output_type": "stream",
          "name": "stdout",
          "text": [
            "first line \n",
            "second line \n",
            "thrid line\n"
          ]
        }
      ]
    },
    {
      "cell_type": "code",
      "source": [
        "print(\"hello\",\"world\",sep=\"---\")"
      ],
      "metadata": {
        "colab": {
          "base_uri": "https://localhost:8080/"
        },
        "id": "GpA846YeItRW",
        "outputId": "2bcaa9ce-97cf-4995-fcf0-02fed01851f1"
      },
      "execution_count": null,
      "outputs": [
        {
          "output_type": "stream",
          "name": "stdout",
          "text": [
            "hello---world\n"
          ]
        }
      ]
    },
    {
      "cell_type": "code",
      "source": [
        "print(\"hello\",\"world\",sep=\" \")\n",
        "print(\"hello\",\"world\",sep=\"---\")\n",
        "print(\"hello\",\"world\",sep=\"\\n\")"
      ],
      "metadata": {
        "colab": {
          "base_uri": "https://localhost:8080/"
        },
        "id": "3trPCHvPJBoU",
        "outputId": "2c74c213-e7b9-4c4a-9788-7b7da4922071"
      },
      "execution_count": null,
      "outputs": [
        {
          "output_type": "stream",
          "name": "stdout",
          "text": [
            "hello world\n",
            "hello---world\n",
            "hello\n",
            "world\n"
          ]
        }
      ]
    },
    {
      "cell_type": "code",
      "source": [
        "(10-5)*2\n"
      ],
      "metadata": {
        "colab": {
          "base_uri": "https://localhost:8080/"
        },
        "id": "xckMHki9JMjV",
        "outputId": "eb507137-1f87-4f13-d09c-4374c67679e7"
      },
      "execution_count": null,
      "outputs": [
        {
          "output_type": "execute_result",
          "data": {
            "text/plain": [
              "10"
            ]
          },
          "metadata": {},
          "execution_count": 24
        }
      ]
    },
    {
      "cell_type": "code",
      "source": [
        "10%5"
      ],
      "metadata": {
        "colab": {
          "base_uri": "https://localhost:8080/"
        },
        "id": "KzTK1DWOKD5H",
        "outputId": "7a5e11c7-f6e2-402e-f5f2-201c2239056c"
      },
      "execution_count": null,
      "outputs": [
        {
          "output_type": "execute_result",
          "data": {
            "text/plain": [
              "0"
            ]
          },
          "metadata": {},
          "execution_count": 25
        }
      ]
    },
    {
      "cell_type": "code",
      "source": [
        "10-5*2"
      ],
      "metadata": {
        "colab": {
          "base_uri": "https://localhost:8080/"
        },
        "id": "UKQ9fcBtJ0h6",
        "outputId": "478fa918-f424-4916-fbf4-bd0ad7488b08"
      },
      "execution_count": null,
      "outputs": [
        {
          "output_type": "execute_result",
          "data": {
            "text/plain": [
              "0"
            ]
          },
          "metadata": {},
          "execution_count": 23
        }
      ]
    },
    {
      "cell_type": "code",
      "source": [
        "print(3//2)\n",
        "print(10-5*2)"
      ],
      "metadata": {
        "colab": {
          "base_uri": "https://localhost:8080/"
        },
        "id": "58El__bvKK3A",
        "outputId": "db278b91-b912-4c66-e169-09940a9b8062"
      },
      "execution_count": null,
      "outputs": [
        {
          "output_type": "stream",
          "name": "stdout",
          "text": [
            "1\n",
            "0\n"
          ]
        }
      ]
    },
    {
      "cell_type": "code",
      "source": [
        "10-5*2\n",
        "(10-5)*2"
      ],
      "metadata": {
        "colab": {
          "base_uri": "https://localhost:8080/"
        },
        "id": "h7-1i3SsKuQ9",
        "outputId": "583bae88-ae27-42e7-f880-f881899999a6"
      },
      "execution_count": null,
      "outputs": [
        {
          "output_type": "execute_result",
          "data": {
            "text/plain": [
              "10"
            ]
          },
          "metadata": {},
          "execution_count": 29
        }
      ]
    },
    {
      "cell_type": "code",
      "source": [
        "round(1.3)"
      ],
      "metadata": {
        "colab": {
          "base_uri": "https://localhost:8080/"
        },
        "id": "7tiwKFnmK7iJ",
        "outputId": "062df12d-1e9a-4969-e719-8ffc2415657f"
      },
      "execution_count": null,
      "outputs": [
        {
          "output_type": "execute_result",
          "data": {
            "text/plain": [
              "1"
            ]
          },
          "metadata": {},
          "execution_count": 31
        }
      ]
    },
    {
      "cell_type": "code",
      "source": [
        "round(1.555,2)"
      ],
      "metadata": {
        "colab": {
          "base_uri": "https://localhost:8080/"
        },
        "id": "P5D5qym3LnXs",
        "outputId": "d0e849ad-5e81-42f0-ab00-334a154a81ab"
      },
      "execution_count": null,
      "outputs": [
        {
          "output_type": "execute_result",
          "data": {
            "text/plain": [
              "1.55"
            ]
          },
          "metadata": {},
          "execution_count": 34
        }
      ]
    },
    {
      "cell_type": "code",
      "source": [
        "a= input()"
      ],
      "metadata": {
        "colab": {
          "base_uri": "https://localhost:8080/"
        },
        "id": "l3ERB1JIMhGX",
        "outputId": "36d52bce-4976-4fec-84d7-48f3dfba32da"
      },
      "execution_count": null,
      "outputs": [
        {
          "name": "stdout",
          "output_type": "stream",
          "text": [
            "1\n"
          ]
        }
      ]
    },
    {
      "cell_type": "code",
      "source": [
        "b=input()\n"
      ],
      "metadata": {
        "colab": {
          "base_uri": "https://localhost:8080/"
        },
        "id": "ryyHKh-HNgIV",
        "outputId": "36e40850-4036-4051-fa86-3209b3bd34f0"
      },
      "execution_count": null,
      "outputs": [
        {
          "name": "stdout",
          "output_type": "stream",
          "text": [
            "2\n"
          ]
        }
      ]
    },
    {
      "cell_type": "code",
      "source": [
        "c=(a+b)\n",
        "print(c)"
      ],
      "metadata": {
        "colab": {
          "base_uri": "https://localhost:8080/"
        },
        "id": "8lwJSss8No8g",
        "outputId": "07b2661a-18e4-453c-ec31-1e935eb3a71a"
      },
      "execution_count": null,
      "outputs": [
        {
          "output_type": "stream",
          "name": "stdout",
          "text": [
            "12\n"
          ]
        }
      ]
    },
    {
      "cell_type": "code",
      "source": [
        "a= int(input(\"enter the first number:  \"))\n",
        "b= int(input(\"enter the second number:  \"))\n",
        "c=int(input(\"enter the third number:  \"))\n",
        "print(type(a),type(b),type(c))"
      ],
      "metadata": {
        "colab": {
          "base_uri": "https://localhost:8080/"
        },
        "id": "c2UohPdzPSO8",
        "outputId": "f51ee743-36b9-4b4e-b176-a46b78b77b3b"
      },
      "execution_count": null,
      "outputs": [
        {
          "output_type": "stream",
          "name": "stdout",
          "text": [
            "enter the first number:  22\n",
            "enter the second number:  36\n",
            "enter the third number:  23\n",
            "<class 'int'> <class 'int'> <class 'int'>\n"
          ]
        }
      ]
    },
    {
      "cell_type": "markdown",
      "source": [
        "reverse of string\n"
      ],
      "metadata": {
        "id": "luq9VQGuVbIB"
      }
    },
    {
      "cell_type": "code",
      "source": [
        "a=input(\"enter the string\")\n",
        "print(a[::-1])"
      ],
      "metadata": {
        "colab": {
          "base_uri": "https://localhost:8080/"
        },
        "id": "_h_sF6sDSx9y",
        "outputId": "bbbd0e47-4715-4797-9c57-7f5c4a1f8a02"
      },
      "execution_count": null,
      "outputs": [
        {
          "output_type": "stream",
          "name": "stdout",
          "text": [
            "enter the stringmouna\n",
            "m\n"
          ]
        }
      ]
    },
    {
      "cell_type": "code",
      "source": [
        "str1=\"wow\"\n",
        "str2=str1[::-1]\n",
        "print(str1==str2)"
      ],
      "metadata": {
        "colab": {
          "base_uri": "https://localhost:8080/"
        },
        "id": "ile3TpsfcfpP",
        "outputId": "b9bacfca-c019-4ee0-cbbf-5d56d40e50fd"
      },
      "execution_count": null,
      "outputs": [
        {
          "output_type": "stream",
          "name": "stdout",
          "text": [
            "True\n"
          ]
        }
      ]
    },
    {
      "cell_type": "code",
      "source": [
        "print(dir(str2))"
      ],
      "metadata": {
        "colab": {
          "base_uri": "https://localhost:8080/"
        },
        "id": "3HeRMaJOdoyf",
        "outputId": "67d8751e-6e90-45ca-8bcc-61c717aa0da9"
      },
      "execution_count": null,
      "outputs": [
        {
          "output_type": "stream",
          "name": "stdout",
          "text": [
            "['__add__', '__class__', '__contains__', '__delattr__', '__dir__', '__doc__', '__eq__', '__format__', '__ge__', '__getattribute__', '__getitem__', '__getnewargs__', '__gt__', '__hash__', '__init__', '__init_subclass__', '__iter__', '__le__', '__len__', '__lt__', '__mod__', '__mul__', '__ne__', '__new__', '__reduce__', '__reduce_ex__', '__repr__', '__rmod__', '__rmul__', '__setattr__', '__sizeof__', '__str__', '__subclasshook__', 'capitalize', 'casefold', 'center', 'count', 'encode', 'endswith', 'expandtabs', 'find', 'format', 'format_map', 'index', 'isalnum', 'isalpha', 'isascii', 'isdecimal', 'isdigit', 'isidentifier', 'islower', 'isnumeric', 'isprintable', 'isspace', 'istitle', 'isupper', 'join', 'ljust', 'lower', 'lstrip', 'maketrans', 'partition', 'replace', 'rfind', 'rindex', 'rjust', 'rpartition', 'rsplit', 'rstrip', 'split', 'splitlines', 'startswith', 'strip', 'swapcase', 'title', 'translate', 'upper', 'zfill']\n"
          ]
        }
      ]
    },
    {
      "cell_type": "code",
      "source": [
        "str1=input(\"enter trhe string:\")\n",
        "str1=str1.casefold()\n",
        "print(str1)\n",
        "str2=str1[::-1]\n",
        "print(str1==str2)"
      ],
      "metadata": {
        "colab": {
          "base_uri": "https://localhost:8080/"
        },
        "id": "HI3pujYIeupf",
        "outputId": "31aa60e2-5b23-43fe-e4d3-46a3f8050d8e"
      },
      "execution_count": null,
      "outputs": [
        {
          "output_type": "stream",
          "name": "stdout",
          "text": [
            "enter trhe string:nAyAN\n",
            "nayan\n",
            "True\n"
          ]
        }
      ]
    },
    {
      "cell_type": "code",
      "source": [
        "str1=input(\"enter trhe string:\")\n",
        "str1=str1.upper()\n",
        "print(str1)\n",
        "str2=str1[::-1]\n",
        "print(str1==str2)"
      ],
      "metadata": {
        "colab": {
          "base_uri": "https://localhost:8080/"
        },
        "id": "g2YGQQwYfsaf",
        "outputId": "9e306df7-ead7-4544-af80-8b7ada2d2aa2"
      },
      "execution_count": null,
      "outputs": [
        {
          "output_type": "stream",
          "name": "stdout",
          "text": [
            "enter trhe string:baab\n",
            "BAAB\n",
            "True\n"
          ]
        }
      ]
    },
    {
      "cell_type": "code",
      "source": [
        "age=(input(\"enter the age\"))\n",
        "print(\"my age is\" +age)"
      ],
      "metadata": {
        "colab": {
          "base_uri": "https://localhost:8080/"
        },
        "id": "XXVPwCxrgXvT",
        "outputId": "7c66e4d2-c2cf-4542-b713-0b3aed154feb"
      },
      "execution_count": null,
      "outputs": [
        {
          "output_type": "stream",
          "name": "stdout",
          "text": [
            "enter the age22\n",
            "my age is22\n"
          ]
        }
      ]
    },
    {
      "cell_type": "code",
      "source": [
        "# yoiurs order for 10 quantities of product_name priced at 1000 is confirmed quantity , producgt name ,price\n",
        "\n",
        "quantity=10\n",
        "product_name=\"product_B\"\n",
        "price=1000\n",
        "print(\"your order for\"+ str(quantity)+ \"quantities of \"+ str(product_name)+ \" priced at\"+str(price)+ \"is confirmed\")"
      ],
      "metadata": {
        "colab": {
          "base_uri": "https://localhost:8080/"
        },
        "id": "IIwRAf-Rha1x",
        "outputId": "c7fd05aa-2554-4290-f8cb-db1623c1643f"
      },
      "execution_count": null,
      "outputs": [
        {
          "output_type": "stream",
          "name": "stdout",
          "text": [
            "your order for10quantities of product_B priced at1000is confirmed\n"
          ]
        }
      ]
    },
    {
      "cell_type": "markdown",
      "source": [
        "conditional statements\n"
      ],
      "metadata": {
        "id": "5P9AXKC2l9mQ"
      }
    },
    {
      "cell_type": "code",
      "source": [
        "#if else\n",
        "x=int(input(\"enter the number:\"))\n",
        "y=int(input(\"enter the number:\"))\n",
        "if x>y:\n",
        "  print(f'{x} is greator than {y}')\n",
        "elif x==y:\n",
        "  print(f'{x} is equal to {y}')  \n",
        "else:\n",
        "  print(f'{x} is less than {y}')  \n",
        "   \n"
      ],
      "metadata": {
        "colab": {
          "base_uri": "https://localhost:8080/"
        },
        "id": "QCX_zsX1jYkL",
        "outputId": "4443baf1-2412-4a82-f74c-4825a2a633ba"
      },
      "execution_count": null,
      "outputs": [
        {
          "output_type": "stream",
          "name": "stdout",
          "text": [
            "enter the number:22\n",
            "enter the number:22\n",
            "22 is equal to 22\n"
          ]
        }
      ]
    },
    {
      "cell_type": "code",
      "source": [
        "#while loop\n",
        "i=0\n",
        "while i<=10:\n",
        "  print(i,end=\" \")\n",
        "  i=i+1"
      ],
      "metadata": {
        "colab": {
          "base_uri": "https://localhost:8080/"
        },
        "id": "sbOMZJ9cJe7P",
        "outputId": "7e494ea4-df0a-4f10-f513-af1b49c6c431"
      },
      "execution_count": null,
      "outputs": [
        {
          "output_type": "stream",
          "name": "stdout",
          "text": [
            "0 1 2 3 4 5 6 7 8 9 10 "
          ]
        }
      ]
    },
    {
      "cell_type": "code",
      "source": [
        "num=[1,2,3]\n",
        "print(num*2)"
      ],
      "metadata": {
        "colab": {
          "base_uri": "https://localhost:8080/"
        },
        "id": "XOb3NCRnL3Qr",
        "outputId": "707da9cb-1550-4409-c35b-c60054dfdf0a"
      },
      "execution_count": null,
      "outputs": [
        {
          "output_type": "stream",
          "name": "stdout",
          "text": [
            "[1, 2, 3, 1, 2, 3]\n"
          ]
        }
      ]
    },
    {
      "cell_type": "code",
      "source": [
        "#displayb of all two digits numbers where the number and it's reverse are divisible by 3\n",
        "for i in range(10,100):\n",
        "  temp=str(i)\n",
        "  rev=int(temp[1]+temp[0])\n",
        "  if i%3==0 and rev%3==0:\n",
        "    print(i,end=\" \")"
      ],
      "metadata": {
        "colab": {
          "base_uri": "https://localhost:8080/"
        },
        "id": "v1_nGEbkM2M_",
        "outputId": "0902b998-7397-4eef-a921-b295627d8d67"
      },
      "execution_count": null,
      "outputs": [
        {
          "output_type": "stream",
          "name": "stdout",
          "text": [
            "12 15 18 21 24 27 30 33 36 39 42 45 48 51 54 57 60 63 66 69 72 75 78 81 84 87 90 93 96 99 "
          ]
        }
      ]
    },
    {
      "cell_type": "code",
      "source": [
        "#write the program to find the highest common factor of 2 numbers\n",
        "import math\n",
        "print(math.gcd(3,4))\n"
      ],
      "metadata": {
        "colab": {
          "base_uri": "https://localhost:8080/"
        },
        "id": "AVeai6U9NeZz",
        "outputId": "75aec073-bb66-40a0-8c59-808ddc0bff18"
      },
      "execution_count": null,
      "outputs": [
        {
          "output_type": "stream",
          "name": "stdout",
          "text": [
            "1\n"
          ]
        }
      ]
    },
    {
      "cell_type": "code",
      "source": [
        "num1=int(input(\"num1: \"))\n",
        "num2=int(input(\"num2: \"))\n",
        "if num1>num2:\n",
        "  smallest=num2\n",
        "else:\n",
        "  smallest=num1\n",
        "for i in range(1,smallest+1):\n",
        "  if num1%i==0 and num2%i==0:\n",
        "    hcf=i\n",
        "print(f'hcf= {hcf}')       "
      ],
      "metadata": {
        "colab": {
          "base_uri": "https://localhost:8080/"
        },
        "id": "6N3QOtA-XyB4",
        "outputId": "e6bf4e9b-fef6-415b-fc01-597f0d5a3fef"
      },
      "execution_count": null,
      "outputs": [
        {
          "output_type": "stream",
          "name": "stdout",
          "text": [
            "num1: 2\n",
            "num2: 3\n",
            "hcf= 1\n"
          ]
        }
      ]
    },
    {
      "cell_type": "code",
      "source": [
        "l1=['a','b','c','d']\n",
        "search_for = input(\"item for search: \")\n",
        "flag1=0\n",
        "flag2=0\n",
        "for i in l1:\n",
        "  if i==search_for:\n",
        "    #print(\"item found\") \n",
        "    flag1=1\n",
        "  else:\n",
        "    flag2=1  \n",
        "if flag1 ==1:\n",
        "    print ('item ids found')\n",
        "else:\n",
        "    print('item not found')\n"
      ],
      "metadata": {
        "colab": {
          "base_uri": "https://localhost:8080/"
        },
        "id": "RCTHT4HYatWk",
        "outputId": "c1535b30-e15e-487e-f691-15309d290545"
      },
      "execution_count": null,
      "outputs": [
        {
          "output_type": "stream",
          "name": "stdout",
          "text": [
            "item for search: e\n",
            "item not found\n"
          ]
        }
      ]
    },
    {
      "cell_type": "code",
      "source": [
        "l1=[1,2,3,4,5]\n",
        "print(l1)\n",
        "l1.append(6)\n",
        "print(l1)\n",
        "\n",
        "del l1[1]\n",
        "print(l1)\n",
        "\n",
        "l1.sort()\n",
        "print(l1)\n",
        "\n",
        "l1.reverse()\n",
        "print(l1)\n",
        "\n",
        "print(len(l1))\n",
        "\n",
        "print(l1[-2])"
      ],
      "metadata": {
        "colab": {
          "base_uri": "https://localhost:8080/"
        },
        "id": "gX0laxWfONoV",
        "outputId": "537e1c1e-c911-4f89-f7b0-b14a7907874d"
      },
      "execution_count": null,
      "outputs": [
        {
          "output_type": "stream",
          "name": "stdout",
          "text": [
            "[1, 2, 3, 4, 5]\n",
            "[1, 2, 3, 4, 5, 6]\n",
            "[1, 3, 4, 5, 6]\n",
            "[1, 3, 4, 5, 6]\n",
            "[6, 5, 4, 3, 1]\n",
            "5\n",
            "3\n"
          ]
        }
      ]
    },
    {
      "cell_type": "markdown",
      "source": [
        "create a list of squares of numbers from 0 to 9 without list comphrension\n",
        "\n",
        "\n",
        "> Indented block\n",
        "\n"
      ],
      "metadata": {
        "id": "Tk-tE9rBSc3e"
      }
    },
    {
      "cell_type": "code",
      "source": [
        "l1=[]\n",
        "for i in range(0,10):\n",
        "    l1.append(i**2)\n",
        "print(l1)   "
      ],
      "metadata": {
        "colab": {
          "base_uri": "https://localhost:8080/"
        },
        "id": "DmbbErdySnuY",
        "outputId": "ebb72a70-f632-4ebf-d304-0c6a26e14c24"
      },
      "execution_count": null,
      "outputs": [
        {
          "output_type": "stream",
          "name": "stdout",
          "text": [
            "[0, 1, 4, 9, 16, 25, 36, 49, 64, 81]\n"
          ]
        }
      ]
    },
    {
      "cell_type": "code",
      "source": [
        "l1=[]\n",
        "for i in range(0,50):\n",
        "    l1.append(i**3)\n",
        "print(l1)   "
      ],
      "metadata": {
        "colab": {
          "base_uri": "https://localhost:8080/"
        },
        "id": "JY4UxyXcVIC8",
        "outputId": "3caf6a3f-6568-4ec0-920f-66c0c2740ac6"
      },
      "execution_count": null,
      "outputs": [
        {
          "output_type": "stream",
          "name": "stdout",
          "text": [
            "[0, 1, 8, 27, 64, 125, 216, 343, 512, 729, 1000, 1331, 1728, 2197, 2744, 3375, 4096, 4913, 5832, 6859, 8000, 9261, 10648, 12167, 13824, 15625, 17576, 19683, 21952, 24389, 27000, 29791, 32768, 35937, 39304, 42875, 46656, 50653, 54872, 59319, 64000, 68921, 74088, 79507, 85184, 91125, 97336, 103823, 110592, 117649]\n"
          ]
        }
      ]
    },
    {
      "cell_type": "code",
      "source": [],
      "metadata": {
        "id": "WwjkygSUVaya"
      },
      "execution_count": null,
      "outputs": []
    },
    {
      "cell_type": "code",
      "source": [
        "l1=[]\n",
        "for i in range(20):\n",
        "    l1.append(i**2)\n",
        "print(l1)    "
      ],
      "metadata": {
        "colab": {
          "base_uri": "https://localhost:8080/"
        },
        "id": "nPMj5yzBVa49",
        "outputId": "8f04b38d-a62f-4046-b1bf-937d29cbd3f6"
      },
      "execution_count": null,
      "outputs": [
        {
          "output_type": "stream",
          "name": "stdout",
          "text": [
            "[0, 1, 4, 9, 16, 25, 36, 49, 64, 81, 100, 121, 144, 169, 196, 225, 256, 289, 324, 361]\n"
          ]
        }
      ]
    },
    {
      "cell_type": "markdown",
      "source": [
        "creating list with list comphrension\n"
      ],
      "metadata": {
        "id": "ttIHWIhSWEzv"
      }
    },
    {
      "cell_type": "code",
      "source": [
        "l1=[i**2 for i in range(10)]\n",
        "print(l1)\n"
      ],
      "metadata": {
        "colab": {
          "base_uri": "https://localhost:8080/"
        },
        "id": "fXnAGctLWLwe",
        "outputId": "62394830-c0da-4d95-8f5a-c6120997e7f1"
      },
      "execution_count": null,
      "outputs": [
        {
          "output_type": "stream",
          "name": "stdout",
          "text": [
            "[0, 1, 4, 9, 16, 25, 36, 49, 64, 81]\n"
          ]
        }
      ]
    },
    {
      "cell_type": "code",
      "source": [
        "l1=[i**3 for i in range(10)]\n",
        "print(l1)\n"
      ],
      "metadata": {
        "colab": {
          "base_uri": "https://localhost:8080/"
        },
        "id": "HWSq3qetW8sg",
        "outputId": "2889ca9e-764f-4818-9dc6-c62168c3a5b0"
      },
      "execution_count": null,
      "outputs": [
        {
          "output_type": "stream",
          "name": "stdout",
          "text": [
            "[0, 1, 8, 27, 64, 125, 216, 343, 512, 729]\n"
          ]
        }
      ]
    },
    {
      "cell_type": "markdown",
      "source": [
        "create a list of even numbers from a given list numbers with  list comphrension\n"
      ],
      "metadata": {
        "id": "3Thel17_Xcr8"
      }
    },
    {
      "cell_type": "code",
      "source": [
        "numbers =[1,2,3,4,5,6,7]\n",
        "even_numbers=[i for i in numbers if i%2==0]\n",
        "print(even_numbers)"
      ],
      "metadata": {
        "colab": {
          "base_uri": "https://localhost:8080/"
        },
        "id": "vVgQ5n0pW8yw",
        "outputId": "47b74b38-6754-421a-daf6-9430cd3a8a6a"
      },
      "execution_count": null,
      "outputs": [
        {
          "output_type": "stream",
          "name": "stdout",
          "text": [
            "[2, 4, 6]\n"
          ]
        }
      ]
    },
    {
      "cell_type": "code",
      "source": [
        "numbers=[1,2,3,4,5,6,7]\n",
        "even=[]\n",
        "for i in numbers:\n",
        "  if i%2==0:\n",
        "    even.append(i)\n",
        "print(even)    \n"
      ],
      "metadata": {
        "colab": {
          "base_uri": "https://localhost:8080/"
        },
        "id": "1fyzhgVkZL8C",
        "outputId": "5bf665ca-9e2f-480c-dac0-0433765661e8"
      },
      "execution_count": null,
      "outputs": [
        {
          "output_type": "stream",
          "name": "stdout",
          "text": [
            "[2, 4, 6]\n"
          ]
        }
      ]
    },
    {
      "cell_type": "markdown",
      "source": [
        "ascii"
      ],
      "metadata": {
        "id": "qh7nTCW_aZf9"
      }
    },
    {
      "cell_type": "code",
      "source": [
        "char1='a'\n",
        "ASCII=ord(char1)\n",
        "print(char1)\n",
        "print(ASCII)"
      ],
      "metadata": {
        "colab": {
          "base_uri": "https://localhost:8080/"
        },
        "id": "Il_q5Yq2ab8I",
        "outputId": "b31792c2-2353-45a8-c13b-5d7f69bd189d"
      },
      "execution_count": null,
      "outputs": [
        {
          "output_type": "stream",
          "name": "stdout",
          "text": [
            "a\n",
            "97\n"
          ]
        }
      ]
    },
    {
      "cell_type": "code",
      "source": [
        "#ASCII(a)-ASCII(A)=97-65=32\n",
        "#input: a----> ASCII=97\n",
        "#converst toi uppercase: 97-32\n",
        "\n",
        "\n",
        "char1=input(\"enter the alphabet: \")\n",
        "ASCII=ord(char1)\n",
        "   \n",
        "#input is uppercase   \n",
        "if ASCII>64 and ASCII<91:\n",
        "   print('input character is in upper case')\n",
        "   ASCII+=32\n",
        "   small_case=chr(ASCII)\n",
        "   print(small_case)\n",
        "\n",
        "\n",
        "elif ASCII<123 and ASCII>96:\n",
        "  print('input character is in lower ccase')\n",
        "  ASCII-=32\n",
        "  upper_case=chr(ASCII)\n",
        "  print(upper_case)  \n",
        "\n",
        "else:\n",
        "  print(\"invalid input\")  "
      ],
      "metadata": {
        "colab": {
          "base_uri": "https://localhost:8080/"
        },
        "id": "coDlgrUzawrS",
        "outputId": "91fd8b09-8e7b-48ac-a8a7-704ccce7a814"
      },
      "execution_count": null,
      "outputs": [
        {
          "output_type": "stream",
          "name": "stdout",
          "text": [
            "enter the alphabet: a\n",
            "input character is in lower ccase\n",
            "A\n"
          ]
        }
      ]
    },
    {
      "cell_type": "code",
      "source": [
        "#tuple containing numbers fron 0 to 9\n",
        "t1=tuple(range(0,10))\n",
        "print(t1)\n",
        "print(type(t1))\n"
      ],
      "metadata": {
        "colab": {
          "base_uri": "https://localhost:8080/"
        },
        "id": "XIfAu_dtlqjV",
        "outputId": "640129e3-a994-4963-817a-05d1664d2248"
      },
      "execution_count": null,
      "outputs": [
        {
          "output_type": "stream",
          "name": "stdout",
          "text": [
            "(0, 1, 2, 3, 4, 5, 6, 7, 8, 9)\n",
            "<class 'tuple'>\n"
          ]
        }
      ]
    },
    {
      "cell_type": "code",
      "source": [
        "#items in tuple are ordered\n",
        "\n",
        "t1=(1,2,3,4,5)\n",
        "print(t1)\n",
        "print(t1[0])"
      ],
      "metadata": {
        "colab": {
          "base_uri": "https://localhost:8080/"
        },
        "id": "26EVDutjotYj",
        "outputId": "fec6f0dd-6b02-4c05-e234-c80945766445"
      },
      "execution_count": null,
      "outputs": [
        {
          "output_type": "stream",
          "name": "stdout",
          "text": [
            "(1, 2, 3, 4, 5)\n",
            "1\n"
          ]
        }
      ]
    },
    {
      "cell_type": "code",
      "source": [
        "#prg to find total time wasted purposefully by Internship canididates\n",
        "end_time='11:15'\n",
        "actual_time='11:35'\n",
        "total_time='15'\n",
        "\n",
        "end_time_sep=end_time.split(sep=':')\n",
        "actual_time_sep=actual_time.split(sep=':')\n",
        "\n",
        "print(end_time_sep[0],end_time_sep[1])\n",
        "print(actual_time_sep[0],actual_time_sep[1])\n",
        "\n",
        "diff_hrs=int(actual_time_sep[0])-int(end_time_sep[0])\n",
        "diff_mins=int(actual_time_sep[1])-int(end_time_sep[1])\n",
        "print(\"difference in hours:\",diff_hrs)\n",
        "print(\"difference in mins:\",diff_mins)\n",
        "\n",
        "exceed_time=diff_hrs*60+diff_mins\n",
        "print(f\"exceed time in mins:{exceed_time}\")\n",
        "\n",
        "exceed_time_in_perc=100*(exceed_time/total_time)\n",
        "print(f\"exceed time in %:{exceed_time_in_perc}\")\n",
        "\n"
      ],
      "metadata": {
        "colab": {
          "base_uri": "https://localhost:8080/",
          "height": 323
        },
        "id": "nc_uvZ0SRfKC",
        "outputId": "c91a30d5-29f0-4a09-a462-6976c921070b"
      },
      "execution_count": null,
      "outputs": [
        {
          "output_type": "stream",
          "name": "stdout",
          "text": [
            "11 15\n",
            "11 35\n",
            "difference in hours: 0\n",
            "difference in mins: 20\n",
            "exceed time in mins:20\n"
          ]
        },
        {
          "output_type": "error",
          "ename": "TypeError",
          "evalue": "ignored",
          "traceback": [
            "\u001b[0;31m---------------------------------------------------------------------------\u001b[0m",
            "\u001b[0;31mTypeError\u001b[0m                                 Traceback (most recent call last)",
            "\u001b[0;32m<ipython-input-4-3184339f0800>\u001b[0m in \u001b[0;36m<module>\u001b[0;34m\u001b[0m\n\u001b[1;32m     18\u001b[0m \u001b[0mprint\u001b[0m\u001b[0;34m(\u001b[0m\u001b[0;34mf\"exceed time in mins:{exceed_time}\"\u001b[0m\u001b[0;34m)\u001b[0m\u001b[0;34m\u001b[0m\u001b[0;34m\u001b[0m\u001b[0m\n\u001b[1;32m     19\u001b[0m \u001b[0;34m\u001b[0m\u001b[0m\n\u001b[0;32m---> 20\u001b[0;31m \u001b[0mexceed_time_in_perc\u001b[0m\u001b[0;34m=\u001b[0m\u001b[0;36m100\u001b[0m\u001b[0;34m*\u001b[0m\u001b[0;34m(\u001b[0m\u001b[0mexceed_time\u001b[0m\u001b[0;34m/\u001b[0m\u001b[0mtotal_time\u001b[0m\u001b[0;34m)\u001b[0m\u001b[0;34m\u001b[0m\u001b[0;34m\u001b[0m\u001b[0m\n\u001b[0m\u001b[1;32m     21\u001b[0m \u001b[0mprint\u001b[0m\u001b[0;34m(\u001b[0m\u001b[0;34mf\"exceed time in %:{exceed_time_in_perc}\"\u001b[0m\u001b[0;34m)\u001b[0m\u001b[0;34m\u001b[0m\u001b[0;34m\u001b[0m\u001b[0m\n\u001b[1;32m     22\u001b[0m \u001b[0;34m\u001b[0m\u001b[0m\n",
            "\u001b[0;31mTypeError\u001b[0m: unsupported operand type(s) for /: 'int' and 'str'"
          ]
        }
      ]
    },
    {
      "cell_type": "markdown",
      "source": [
        "dictionary\n"
      ],
      "metadata": {
        "id": "6QXx1511YXYE"
      }
    },
    {
      "cell_type": "code",
      "source": [
        "d1={\n",
        "    'name':'anu',\n",
        "    'age':22\n",
        "}"
      ],
      "metadata": {
        "id": "mVFEaamEpXbQ"
      },
      "execution_count": null,
      "outputs": []
    },
    {
      "cell_type": "code",
      "source": [
        "#get\n",
        "d1={\n",
        "    'name':'anu',\n",
        "    'age':22\n",
        "}\n",
        "print(d1.get('name'))\n",
        "\n",
        "#values\n",
        "print(d1.values())\n",
        "\n",
        "#keys\n",
        "print(d1.keys())"
      ],
      "metadata": {
        "colab": {
          "base_uri": "https://localhost:8080/"
        },
        "id": "LBa_94fKahR-",
        "outputId": "6c0cd13b-7d1d-4297-d7c4-9ef796d63ffd"
      },
      "execution_count": null,
      "outputs": [
        {
          "output_type": "stream",
          "name": "stdout",
          "text": [
            "anu\n",
            "dict_values(['anu', 22])\n",
            "dict_keys(['name', 'age'])\n"
          ]
        }
      ]
    },
    {
      "cell_type": "code",
      "source": [
        "d1={\n",
        "    'name':'anu',\n",
        "    'age':22\n",
        "}\n",
        "\n",
        "# write prg to make the name contain 22\n",
        "\n",
        "d1['name']=22\n",
        "print(d1)\n",
        "\n",
        "#delete\n",
        "del d1\n",
        "print(d1)"
      ],
      "metadata": {
        "colab": {
          "base_uri": "https://localhost:8080/",
          "height": 219
        },
        "id": "yxdaDFelbOfn",
        "outputId": "c87ebabd-e609-4fa7-e110-4e091bbbbba6"
      },
      "execution_count": null,
      "outputs": [
        {
          "output_type": "stream",
          "name": "stdout",
          "text": [
            "{'name': 22, 'age': 22}\n"
          ]
        },
        {
          "output_type": "error",
          "ename": "NameError",
          "evalue": "ignored",
          "traceback": [
            "\u001b[0;31m---------------------------------------------------------------------------\u001b[0m",
            "\u001b[0;31mNameError\u001b[0m                                 Traceback (most recent call last)",
            "\u001b[0;32m<ipython-input-12-a547790e3695>\u001b[0m in \u001b[0;36m<module>\u001b[0;34m\u001b[0m\n\u001b[1;32m     11\u001b[0m \u001b[0;31m#delete\u001b[0m\u001b[0;34m\u001b[0m\u001b[0;34m\u001b[0m\u001b[0;34m\u001b[0m\u001b[0m\n\u001b[1;32m     12\u001b[0m \u001b[0;32mdel\u001b[0m \u001b[0md1\u001b[0m\u001b[0;34m\u001b[0m\u001b[0;34m\u001b[0m\u001b[0m\n\u001b[0;32m---> 13\u001b[0;31m \u001b[0mprint\u001b[0m\u001b[0;34m(\u001b[0m\u001b[0md1\u001b[0m\u001b[0;34m)\u001b[0m\u001b[0;34m\u001b[0m\u001b[0;34m\u001b[0m\u001b[0m\n\u001b[0m",
            "\u001b[0;31mNameError\u001b[0m: name 'd1' is not defined"
          ]
        }
      ]
    },
    {
      "cell_type": "code",
      "source": [
        "#use for loop to iterate over loops\n",
        "\n",
        "d1={\n",
        "    'name':'anu',\n",
        "    'age':22\n",
        "}\n",
        "\n",
        "for i in d1:\n",
        "  print(i)\n",
        "print()\n",
        "for i,j in d1.items():\n",
        "  print(f'{i}:{j}')\n"
      ],
      "metadata": {
        "colab": {
          "base_uri": "https://localhost:8080/"
        },
        "id": "7U-sIigHcbJG",
        "outputId": "ba652306-a173-4dda-d735-5b230256b0e4"
      },
      "execution_count": null,
      "outputs": [
        {
          "output_type": "stream",
          "name": "stdout",
          "text": [
            "name\n",
            "age\n",
            "\n",
            "name:anu\n",
            "age:22\n"
          ]
        }
      ]
    },
    {
      "cell_type": "code",
      "source": [
        "#function:user defined block of code which runs  when called\n",
        "\n",
        "def function_name(par1,par2)\n",
        "#function_code\n",
        "function_name(val1,val2)\n"
      ],
      "metadata": {
        "id": "uerC9Z6KewOq"
      },
      "execution_count": null,
      "outputs": []
    },
    {
      "cell_type": "code",
      "source": [
        "def print_name(name='anu'):\n",
        "  print(name)\n",
        "print_name()  \n"
      ],
      "metadata": {
        "colab": {
          "base_uri": "https://localhost:8080/"
        },
        "id": "ZAXTdgfLexiR",
        "outputId": "f95156bc-38fd-467b-c890-96c953f9aa6b"
      },
      "execution_count": null,
      "outputs": [
        {
          "output_type": "stream",
          "name": "stdout",
          "text": [
            "anu\n"
          ]
        }
      ]
    },
    {
      "cell_type": "code",
      "source": [
        "def print_name(*name):\n",
        "  print(name)\n",
        "print_name('nam1','nam2')  "
      ],
      "metadata": {
        "colab": {
          "base_uri": "https://localhost:8080/"
        },
        "id": "WJZuv0c3gcDK",
        "outputId": "5500c482-9571-4859-9692-d737cbce97b7"
      },
      "execution_count": null,
      "outputs": [
        {
          "output_type": "stream",
          "name": "stdout",
          "text": [
            "('nam1', 'nam2')\n"
          ]
        }
      ]
    },
    {
      "cell_type": "code",
      "source": [],
      "metadata": {
        "id": "9Ll79Diag3Jv"
      },
      "execution_count": null,
      "outputs": []
    }
  ]
}