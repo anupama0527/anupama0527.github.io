{
  "nbformat": 4,
  "nbformat_minor": 0,
  "metadata": {
    "colab": {
      "provenance": [],
      "authorship_tag": "ABX9TyN6xlUJE33IXoUyNBKNQGn6",
      "include_colab_link": true
    },
    "kernelspec": {
      "name": "python3",
      "display_name": "Python 3"
    },
    "language_info": {
      "name": "python"
    }
  },
  "cells": [
    {
      "cell_type": "markdown",
      "metadata": {
        "id": "view-in-github",
        "colab_type": "text"
      },
      "source": [
        "<a href=\"https://colab.research.google.com/github/anupama0527/anupama0527.github.io/blob/main/pandas.ipynb\" target=\"_parent\"><img src=\"https://colab.research.google.com/assets/colab-badge.svg\" alt=\"Open In Colab\"/></a>"
      ]
    },
    {
      "cell_type": "code",
      "execution_count": null,
      "metadata": {
        "id": "pG-x_a3jmE7W"
      },
      "outputs": [],
      "source": [
        "import numpy as np\n",
        "import pandas as pd\n"
      ]
    },
    {
      "cell_type": "code",
      "source": [
        "#creating a dataframe\n",
        "import numpy as np\n",
        "my_data=np.array([[1,2],[3,4],[5,6]])\n",
        "print(my_data.shape)"
      ],
      "metadata": {
        "colab": {
          "base_uri": "https://localhost:8080/"
        },
        "id": "MzyGNeVln-r_",
        "outputId": "8cb23120-8ad1-4310-e72d-6e222dfb5f83"
      },
      "execution_count": null,
      "outputs": [
        {
          "output_type": "stream",
          "name": "stdout",
          "text": [
            "(3, 2)\n"
          ]
        }
      ]
    },
    {
      "cell_type": "code",
      "source": [
        "import numpy as np\n",
        "import pandas as pd\n",
        "my_data=np.array([[1,2],[3,4],[5,6]])\n",
        "print(my_data.shape)\n",
        "my_column_names=['x','y']\n",
        "my_dataframe=pd.DataFrame(data=my_data,columns=my_column_names)\n",
        "print(my_dataframe)"
      ],
      "metadata": {
        "colab": {
          "base_uri": "https://localhost:8080/"
        },
        "id": "xS5L8JAkpPUO",
        "outputId": "f7369ae8-6594-4137-ba2c-8f7af17a3708"
      },
      "execution_count": null,
      "outputs": [
        {
          "output_type": "stream",
          "name": "stdout",
          "text": [
            "(3, 2)\n",
            "   x  y\n",
            "0  1  2\n",
            "1  3  4\n",
            "2  5  6\n"
          ]
        }
      ]
    },
    {
      "cell_type": "code",
      "source": [
        "import numpy as np\n",
        "import pandas as pd\n",
        "my_data=np.array([[1,2,8],[7,3,4],[9,5,6],[6,6,7]])\n",
        "print(my_data.shape)\n",
        "my_column_names=['x','y','z']\n",
        "my_dataframe=pd.DataFrame(data=my_data,columns=my_column_names)\n",
        "print(my_dataframe)"
      ],
      "metadata": {
        "colab": {
          "base_uri": "https://localhost:8080/"
        },
        "id": "UhQ1efRWp8HY",
        "outputId": "bf67d793-9b92-4e19-dc83-b63fd1be87ac"
      },
      "execution_count": null,
      "outputs": [
        {
          "output_type": "stream",
          "name": "stdout",
          "text": [
            "(4, 3)\n",
            "   x  y  z\n",
            "0  1  2  8\n",
            "1  7  3  4\n",
            "2  9  5  6\n",
            "3  6  6  7\n"
          ]
        }
      ]
    },
    {
      "cell_type": "code",
      "source": [
        "#addition of two columns\n",
        "my_data=np.array([[1,2],[3,4],[5,6]])\n",
        "print(my_data.shape)\n",
        "my_column_names=['x','y']\n",
        "my_dataframe=pd.DataFrame(data=my_data,columns=my_column_names)\n",
        "my_dataframe['a']=my_dataframe['x']+my_dataframe['y']\n",
        "print(my_dataframe)"
      ],
      "metadata": {
        "colab": {
          "base_uri": "https://localhost:8080/"
        },
        "id": "9fEhdpPBsxC2",
        "outputId": "b287c03c-1352-46d1-8607-fde28975f6c2"
      },
      "execution_count": null,
      "outputs": [
        {
          "output_type": "stream",
          "name": "stdout",
          "text": [
            "(3, 2)\n",
            "   x  y   a\n",
            "0  1  2   3\n",
            "1  3  4   7\n",
            "2  5  6  11\n"
          ]
        }
      ]
    },
    {
      "cell_type": "code",
      "source": [
        "my_data=np.array([[1,2],[3,4],[5,6]])\n",
        "print(my_data.shape)\n",
        "my_column_names=['x','y']\n",
        "my_dataframe=pd.DataFrame(data=my_data,columns=my_column_names)\n",
        "my_dataframe['a']=my_dataframe['x']+my_dataframe['y']\n",
        "my_dataframe['b']=my_dataframe['x']+my_dataframe['y']+my_dataframe['a']\n",
        "print(my_dataframe)"
      ],
      "metadata": {
        "colab": {
          "base_uri": "https://localhost:8080/"
        },
        "id": "tcEcCHIcvH3N",
        "outputId": "9b94cbf0-6e44-4f69-d0f6-deb13d112c43"
      },
      "execution_count": null,
      "outputs": [
        {
          "output_type": "stream",
          "name": "stdout",
          "text": [
            "(3, 2)\n",
            "   x  y   a   b\n",
            "0  1  2   3   6\n",
            "1  3  4   7  14\n",
            "2  5  6  11  22\n"
          ]
        }
      ]
    },
    {
      "cell_type": "code",
      "source": [
        "my_data=pd.read_csv('Book1.csv')\n",
        "print(my_data)\n"
      ],
      "metadata": {
        "colab": {
          "base_uri": "https://localhost:8080/"
        },
        "id": "c1kQNi8rwZHJ",
        "outputId": "e7925a76-1c13-4a2d-8b33-088f2e40c7d2"
      },
      "execution_count": null,
      "outputs": [
        {
          "output_type": "stream",
          "name": "stdout",
          "text": [
            "   col1  col2  col3\n",
            "0     1     4     5\n",
            "1     2     5     7\n",
            "2     3     6     9\n"
          ]
        }
      ]
    },
    {
      "cell_type": "code",
      "source": [
        "my_data=pd.read_csv('https://download.mlcc.google.com/mledu-datasets/california_housing_train.csv')\n",
        "print(my_data)"
      ],
      "metadata": {
        "colab": {
          "base_uri": "https://localhost:8080/"
        },
        "id": "c-LhBQJGybks",
        "outputId": "d90256b5-bea3-4cb6-cbf8-c611ccd725f0"
      },
      "execution_count": null,
      "outputs": [
        {
          "output_type": "stream",
          "name": "stdout",
          "text": [
            "       longitude  latitude  housing_median_age  total_rooms  total_bedrooms  \\\n",
            "0        -114.31     34.19                15.0       5612.0          1283.0   \n",
            "1        -114.47     34.40                19.0       7650.0          1901.0   \n",
            "2        -114.56     33.69                17.0        720.0           174.0   \n",
            "3        -114.57     33.64                14.0       1501.0           337.0   \n",
            "4        -114.57     33.57                20.0       1454.0           326.0   \n",
            "...          ...       ...                 ...          ...             ...   \n",
            "16995    -124.26     40.58                52.0       2217.0           394.0   \n",
            "16996    -124.27     40.69                36.0       2349.0           528.0   \n",
            "16997    -124.30     41.84                17.0       2677.0           531.0   \n",
            "16998    -124.30     41.80                19.0       2672.0           552.0   \n",
            "16999    -124.35     40.54                52.0       1820.0           300.0   \n",
            "\n",
            "       population  households  median_income  median_house_value  \n",
            "0          1015.0       472.0         1.4936             66900.0  \n",
            "1          1129.0       463.0         1.8200             80100.0  \n",
            "2           333.0       117.0         1.6509             85700.0  \n",
            "3           515.0       226.0         3.1917             73400.0  \n",
            "4           624.0       262.0         1.9250             65500.0  \n",
            "...           ...         ...            ...                 ...  \n",
            "16995       907.0       369.0         2.3571            111400.0  \n",
            "16996      1194.0       465.0         2.5179             79000.0  \n",
            "16997      1244.0       456.0         3.0313            103600.0  \n",
            "16998      1298.0       478.0         1.9797             85800.0  \n",
            "16999       806.0       270.0         3.0147             94600.0  \n",
            "\n",
            "[17000 rows x 9 columns]\n"
          ]
        }
      ]
    },
    {
      "cell_type": "code",
      "source": [
        "my_data=pd.read_csv('/content/pandas_BMI.csv')\n",
        "print(my_data)"
      ],
      "metadata": {
        "colab": {
          "base_uri": "https://localhost:8080/"
        },
        "id": "dv9qyHG2_F17",
        "outputId": "2a2682ea-239a-4683-fc48-64c2f429788d"
      },
      "execution_count": null,
      "outputs": [
        {
          "output_type": "stream",
          "name": "stdout",
          "text": [
            "   weight  height        BMI\n",
            "0      50    1.60  19.531250\n",
            "1      51    1.61  19.675167\n",
            "2      52    1.62  19.814053\n",
            "3      53    1.63  19.948060\n",
            "4      54    1.64  20.077335\n",
            "5      55    1.65  20.202020\n",
            "6      56    1.67  20.079601\n",
            "7      57    1.68  20.195578\n"
          ]
        }
      ]
    },
    {
      "cell_type": "code",
      "source": [
        "df=pd.DataFrame({\n",
        "    'col1':[1,2,3],\n",
        "    'col2':[4,5,6]\n",
        "})\n",
        "print(df)"
      ],
      "metadata": {
        "colab": {
          "base_uri": "https://localhost:8080/"
        },
        "id": "X_HesrM_Bcvo",
        "outputId": "4c947633-6969-4263-875d-2873f78f8d50"
      },
      "execution_count": null,
      "outputs": [
        {
          "output_type": "stream",
          "name": "stdout",
          "text": [
            "   col1  col2\n",
            "0     1     4\n",
            "1     2     5\n",
            "2     3     6\n"
          ]
        }
      ]
    },
    {
      "cell_type": "code",
      "source": [],
      "metadata": {
        "id": "ZxJLhOfaDiTc"
      },
      "execution_count": null,
      "outputs": []
    }
  ]
}