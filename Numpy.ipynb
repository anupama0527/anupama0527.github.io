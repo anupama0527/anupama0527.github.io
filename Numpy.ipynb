{
  "nbformat": 4,
  "nbformat_minor": 0,
  "metadata": {
    "colab": {
      "provenance": [],
      "authorship_tag": "ABX9TyO36r76XK7FZWmC0xB7Dgb5",
      "include_colab_link": true
    },
    "kernelspec": {
      "name": "python3",
      "display_name": "Python 3"
    },
    "language_info": {
      "name": "python"
    }
  },
  "cells": [
    {
      "cell_type": "markdown",
      "metadata": {
        "id": "view-in-github",
        "colab_type": "text"
      },
      "source": [
        "<a href=\"https://colab.research.google.com/github/anupama0527/anupama0527.github.io/blob/main/Numpy.ipynb\" target=\"_parent\"><img src=\"https://colab.research.google.com/assets/colab-badge.svg\" alt=\"Open In Colab\"/></a>"
      ]
    },
    {
      "cell_type": "code",
      "execution_count": null,
      "metadata": {
        "colab": {
          "base_uri": "https://localhost:8080/"
        },
        "id": "Cl2ZjeWzjMyT",
        "outputId": "9e037962-1bb7-4806-ba2c-e0b0ab2fa87b"
      },
      "outputs": [
        {
          "output_type": "stream",
          "name": "stdout",
          "text": [
            "[1 2 3 4]\n",
            "<class 'numpy.ndarray'>\n"
          ]
        }
      ],
      "source": [
        "import numpy as np\n",
        "arr=np.array([1,2,3,4])\n",
        "print(arr)\n",
        "print(type(arr))"
      ]
    },
    {
      "cell_type": "code",
      "source": [
        "arr1=np.array(24)\n",
        "print(arr1)\n",
        "print(type(arr1))\n",
        "print('dimension:',arr1.ndim)\n",
        "print('shape:',arr1.shape)"
      ],
      "metadata": {
        "colab": {
          "base_uri": "https://localhost:8080/"
        },
        "id": "is8qvjtzmCsj",
        "outputId": "dcf6fe5d-cb5f-4ca7-fb67-fc76beab17d3"
      },
      "execution_count": null,
      "outputs": [
        {
          "output_type": "stream",
          "name": "stdout",
          "text": [
            "24\n",
            "<class 'numpy.ndarray'>\n",
            "dimension: 0\n",
            "shape: ()\n"
          ]
        }
      ]
    },
    {
      "cell_type": "code",
      "source": [
        "#1D array: to create 1D array and to specify the ;ayer of brackets\n",
        "\n",
        "arr1=np.array([2,3,4])\n",
        "print(arr1)\n",
        "print('dimension:',arr1.ndim)\n",
        "print('shape:',arr1.shape)"
      ],
      "metadata": {
        "colab": {
          "base_uri": "https://localhost:8080/"
        },
        "id": "1Ftb8wL9mzVR",
        "outputId": "e45ef2cb-a5fa-4707-a020-f4e0f1ea735c"
      },
      "execution_count": null,
      "outputs": [
        {
          "output_type": "stream",
          "name": "stdout",
          "text": [
            "[2 3 4]\n",
            "dimension: 1\n",
            "shape: (3,)\n"
          ]
        }
      ]
    },
    {
      "cell_type": "code",
      "source": [
        "#2D array\n",
        "\n",
        "arr1=np.array([[1,2,3,4],[5,6,7,8]])\n",
        "print(arr1)\n",
        "\n",
        "print('shape:',arr1.shape)print('dimension:',arr1.ndim)"
      ],
      "metadata": {
        "colab": {
          "base_uri": "https://localhost:8080/"
        },
        "id": "jBSGjzPMnpSD",
        "outputId": "60296466-0a3d-447a-fb27-130fd17ee79b"
      },
      "execution_count": null,
      "outputs": [
        {
          "output_type": "stream",
          "name": "stdout",
          "text": [
            "[[1 2 3 4]\n",
            " [5 6 7 8]]\n",
            "dimension: 2\n",
            "shape: (2, 4)\n"
          ]
        }
      ]
    },
    {
      "cell_type": "code",
      "source": [
        "#create a @Dv array whose shape=(3,3)\n",
        "\n",
        "arr1=np.array([[1,2,3],[4,5,6],[7,8,9]])\n",
        "print(arr1)\n",
        "print('dimension:',arr1.ndim)\n",
        "print('shape:',arr1.shape)"
      ],
      "metadata": {
        "colab": {
          "base_uri": "https://localhost:8080/"
        },
        "id": "0x8rb0oqodhl",
        "outputId": "3efbf5ef-e3f5-4fda-8ac2-6f1864f8a6a4"
      },
      "execution_count": null,
      "outputs": [
        {
          "output_type": "stream",
          "name": "stdout",
          "text": [
            "[[1 2 3]\n",
            " [4 5 6]\n",
            " [7 8 9]]\n",
            "dimension: 2\n",
            "shape: (3, 3)\n"
          ]
        }
      ]
    },
    {
      "cell_type": "code",
      "source": [
        "import numpy as np\n",
        "arr1=np.array([1,2,3,4])\n",
        "print(arr1)\n",
        "print(\"dimension:\",arr1.ndim)\n",
        "print(\"shape:\",arr1.shape)"
      ],
      "metadata": {
        "id": "XGsu9i92pVH8",
        "colab": {
          "base_uri": "https://localhost:8080/"
        },
        "outputId": "5c1b4aab-38c8-46b9-c212-b6ba41b1bcc3"
      },
      "execution_count": null,
      "outputs": [
        {
          "output_type": "stream",
          "name": "stdout",
          "text": [
            "[1 2 3 4]\n",
            "dimension: 1\n",
            "shape: (4,)\n"
          ]
        }
      ]
    },
    {
      "cell_type": "code",
      "source": [
        "import numpy as np\n",
        "arr1=np.array([[1,2,3],[6,7,8],[4,5,8],[2,3,4]])\n",
        "print(arr1)\n",
        "print(arr1.shape)"
      ],
      "metadata": {
        "colab": {
          "base_uri": "https://localhost:8080/"
        },
        "id": "IKxhOvKwaOjt",
        "outputId": "89be22c0-a2da-4be2-89ee-666d714a3561"
      },
      "execution_count": null,
      "outputs": [
        {
          "output_type": "stream",
          "name": "stdout",
          "text": [
            "[[1 2 3]\n",
            " [6 7 8]\n",
            " [4 5 8]\n",
            " [2 3 4]]\n",
            "(4, 3)\n"
          ]
        }
      ]
    },
    {
      "cell_type": "code",
      "source": [
        "# creating 3D array\n",
        "arr3=np.array([[[1,2,3],[3,4,5],[5,6,7],[2,4,5]],[[1,2,3],[3,5,6],[5,6,7],[7,8,9]]])\n",
        "print(arr3)\n",
        "print(\"dimension:\",arr3.ndim)\n",
        "print(\"shape:\",arr3.shape)"
      ],
      "metadata": {
        "colab": {
          "base_uri": "https://localhost:8080/"
        },
        "id": "ZWX-Nsf6dD1W",
        "outputId": "b0d362ec-7a96-4ff1-a5d5-d20ca4ed8b3d"
      },
      "execution_count": null,
      "outputs": [
        {
          "output_type": "stream",
          "name": "stdout",
          "text": [
            "[[[1 2 3]\n",
            "  [3 4 5]\n",
            "  [5 6 7]\n",
            "  [2 4 5]]\n",
            "\n",
            " [[1 2 3]\n",
            "  [3 5 6]\n",
            "  [5 6 7]\n",
            "  [7 8 9]]]\n",
            "dimension: 3\n",
            "shape: (2, 4, 3)\n"
          ]
        }
      ]
    },
    {
      "cell_type": "code",
      "source": [
        "# creating 4D array\n",
        "arr3=np.array([[[[1,2,3],[3,4,5],[5,6,7],[2,4,5]]] ])\n",
        "print(arr3)\n",
        "print(\"dimension:\",arr3.ndim)\n",
        "print(\"shape:\",arr3.shape)"
      ],
      "metadata": {
        "colab": {
          "base_uri": "https://localhost:8080/"
        },
        "id": "t-MUe_TniIM2",
        "outputId": "6da53ab8-0e30-4f34-ff9f-b3a914245c01"
      },
      "execution_count": null,
      "outputs": [
        {
          "output_type": "stream",
          "name": "stdout",
          "text": [
            "[[[[1 2 3]\n",
            "   [3 4 5]\n",
            "   [5 6 7]\n",
            "   [2 4 5]]]]\n",
            "dimension: 4\n",
            "shape: (1, 1, 4, 3)\n"
          ]
        }
      ]
    },
    {
      "cell_type": "code",
      "source": [
        "arr1=np.array([1,2,3,4],ndmin=2)\n",
        "print(arr1)\n",
        "print(arr1.ndim)"
      ],
      "metadata": {
        "colab": {
          "base_uri": "https://localhost:8080/"
        },
        "id": "GjuncvdJvSiT",
        "outputId": "50b178f7-92c2-4d8a-ceba-94dbe6bfde03"
      },
      "execution_count": null,
      "outputs": [
        {
          "output_type": "stream",
          "name": "stdout",
          "text": [
            "[[1 2 3 4]]\n",
            "2\n"
          ]
        }
      ]
    },
    {
      "cell_type": "code",
      "source": [
        "arr1=np.array([1,2,3,4])\n",
        "arr2=np.array([5,6,7,8])\n",
        "arr3=arr1+arr2\n",
        "print(arr3)"
      ],
      "metadata": {
        "colab": {
          "base_uri": "https://localhost:8080/"
        },
        "id": "V8aoilbOv6mz",
        "outputId": "90d151e0-d30c-4a4b-f163-c39a8595c3aa"
      },
      "execution_count": null,
      "outputs": [
        {
          "output_type": "stream",
          "name": "stdout",
          "text": [
            "[ 6  8 10 12]\n"
          ]
        }
      ]
    },
    {
      "cell_type": "code",
      "source": [
        "arr1=np.array([[1,2,3,4],[1,5,8,9]])\n",
        "arr2=np.array([5,6,7,8])\n",
        "arr3=arr1+arr2\n",
        "print(arr3)"
      ],
      "metadata": {
        "colab": {
          "base_uri": "https://localhost:8080/"
        },
        "id": "u44kpJFUw8s9",
        "outputId": "29621c08-7868-46b2-f713-2c789edfe779"
      },
      "execution_count": null,
      "outputs": [
        {
          "output_type": "stream",
          "name": "stdout",
          "text": [
            "[[ 6  8 10 12]\n",
            " [ 6 11 15 17]]\n"
          ]
        }
      ]
    },
    {
      "cell_type": "code",
      "source": [
        "arr1=np.array([[1,2,3,4],[1,5,8,9]])\n",
        "arr2=np.array([[5,6,7,8],[5,7,9,6]])\n",
        "arr3=arr1+arr2\n",
        "print(arr3)"
      ],
      "metadata": {
        "colab": {
          "base_uri": "https://localhost:8080/"
        },
        "id": "cKdZeWmFxKkH",
        "outputId": "01cf1b0c-840d-40b0-effa-e6dd90a69a7d"
      },
      "execution_count": null,
      "outputs": [
        {
          "output_type": "stream",
          "name": "stdout",
          "text": [
            "[[ 6  8 10 12]\n",
            " [ 6 12 17 15]]\n"
          ]
        }
      ]
    },
    {
      "cell_type": "code",
      "source": [
        "#prg to create sum of all the items in 1D array\n",
        "\n",
        "arr1=np.array([1,2,3,4])\n",
        "sum=0\n",
        "for i in arr1:\n",
        "  sum+=i\n",
        "print(sum)"
      ],
      "metadata": {
        "colab": {
          "base_uri": "https://localhost:8080/"
        },
        "id": "EHLhIDoFx6XD",
        "outputId": "ea32c7bf-9768-42d4-c89d-a96d387c40a3"
      },
      "execution_count": null,
      "outputs": [
        {
          "output_type": "stream",
          "name": "stdout",
          "text": [
            "10\n"
          ]
        }
      ]
    },
    {
      "cell_type": "code",
      "source": [
        "#accessing elements of 2D array\n",
        "\n",
        "arr1=np.array([[1,2,3],[3,4,5]])\n",
        "print(arr1[1][-2])\n",
        "print(arr1[1,1:3])\n",
        "print(arr1[0:2,0:2])"
      ],
      "metadata": {
        "colab": {
          "base_uri": "https://localhost:8080/"
        },
        "id": "bm7iPfG6zmsT",
        "outputId": "1f5ff1c9-8283-4324-b324-efa6980f553c"
      },
      "execution_count": null,
      "outputs": [
        {
          "output_type": "stream",
          "name": "stdout",
          "text": [
            "4\n",
            "[4 5]\n",
            "[[1 2]\n",
            " [3 4]]\n"
          ]
        }
      ]
    },
    {
      "cell_type": "code",
      "source": [
        "#accessing 3D array\n",
        "\n",
        "arr3=np.array([[[1,2,3],[3,4,5]],[[5,6,7],[7,8,9]]])\n",
        "print(arr3)\n",
        "print(arr3[1][1][2])\n",
        "print(arr3[0,1,0:2])\n",
        "print(arr3[1,0,1])\n",
        "print(arr3[0:2,1:2,0:2])"
      ],
      "metadata": {
        "colab": {
          "base_uri": "https://localhost:8080/"
        },
        "id": "dnC4s3jW075R",
        "outputId": "7b818360-25bc-4678-cead-31407f678788"
      },
      "execution_count": null,
      "outputs": [
        {
          "output_type": "stream",
          "name": "stdout",
          "text": [
            "[[[1 2 3]\n",
            "  [3 4 5]]\n",
            "\n",
            " [[5 6 7]\n",
            "  [7 8 9]]]\n",
            "9\n",
            "[3 4]\n",
            "6\n",
            "[[[3 4]]\n",
            "\n",
            " [[7 8]]]\n"
          ]
        }
      ]
    },
    {
      "cell_type": "code",
      "source": [
        "#print the scalar values of array\n",
        "import numpy as np\n",
        "arr1=np.array([[1,2,3],[4,5,6]])\n",
        "for x in arr1:\n",
        "  for y in x:\n",
        "   print(y,end=' ')\n"
      ],
      "metadata": {
        "colab": {
          "base_uri": "https://localhost:8080/"
        },
        "id": "L2E6-skcg6Xf",
        "outputId": "9702cff1-5ca7-4130-d5c2-7bd19c1eea60"
      },
      "execution_count": null,
      "outputs": [
        {
          "output_type": "stream",
          "name": "stdout",
          "text": [
            "1 2 3 4 5 6 "
          ]
        }
      ]
    },
    {
      "cell_type": "code",
      "source": [
        "#print the scalar values of array\n",
        "\n",
        "import numpy as np\n",
        "arr1=np.array([[[1,2,3],[4,5,6],[7,8,9]]])\n",
        "for x in arr1:\n",
        "  for y in x:\n",
        "    for i in y:\n",
        "      print(i,end=' ')\n",
        "print( )      \n",
        "print( arr1.shape)      "
      ],
      "metadata": {
        "colab": {
          "base_uri": "https://localhost:8080/"
        },
        "id": "sIKAYZIwkFM7",
        "outputId": "e915d5df-8fdd-47e0-bb50-69c161fcaf0a"
      },
      "execution_count": null,
      "outputs": [
        {
          "output_type": "stream",
          "name": "stdout",
          "text": [
            "1 2 3 4 5 6 7 8 9 \n",
            "(1, 3, 3)\n"
          ]
        }
      ]
    },
    {
      "cell_type": "code",
      "source": [
        "#nditer\n",
        "\n",
        "import numpy as np\n",
        "arr1=np.array([[[1,2,3],[4,5,6],[7,8,9]]])\n",
        "for x in np.nditer(arr1):   #iteration\n",
        "  print(x,end=\" \")"
      ],
      "metadata": {
        "colab": {
          "base_uri": "https://localhost:8080/"
        },
        "id": "qO64chW2kRD5",
        "outputId": "d575e4b3-3506-4a1d-b84f-6e0593f925f2"
      },
      "execution_count": null,
      "outputs": [
        {
          "output_type": "stream",
          "name": "stdout",
          "text": [
            "1 2 3 4 5 6 7 8 9 "
          ]
        }
      ]
    },
    {
      "cell_type": "code",
      "source": [
        "#populate arrays with sequence of numbers\n",
        "#arange()\n",
        "\n",
        "arr1=np.arange(5,15,2)\n",
        "print(arr1)\n",
        "print(\"dimension:\",arr1.ndim)\n",
        "print(\"shape:\",arr1.shape)"
      ],
      "metadata": {
        "colab": {
          "base_uri": "https://localhost:8080/"
        },
        "id": "l5kLHHfTqpVT",
        "outputId": "17e4e196-ed95-4c45-d45e-1f96ff1f6415"
      },
      "execution_count": null,
      "outputs": [
        {
          "output_type": "stream",
          "name": "stdout",
          "text": [
            "[ 5  7  9 11 13]\n",
            "dimension: 1\n",
            "shape: (5,)\n"
          ]
        }
      ]
    },
    {
      "cell_type": "code",
      "source": [
        "#populate array with random integer\n",
        "#np.random.randint(low,high,size)\n",
        "\n",
        "arr1=np.random.randint(low=10,high=20,size=(6))\n",
        "print(arr1)"
      ],
      "metadata": {
        "colab": {
          "base_uri": "https://localhost:8080/"
        },
        "id": "OaZQRq1lrKys",
        "outputId": "67930833-b85c-4988-a026-302412235332"
      },
      "execution_count": null,
      "outputs": [
        {
          "output_type": "stream",
          "name": "stdout",
          "text": [
            "[12 17 14 10 18 16]\n"
          ]
        }
      ]
    },
    {
      "cell_type": "code",
      "source": [
        "arr1=np.random.randint(low=10,high=20,size=(6,3))\n",
        "print(arr1)"
      ],
      "metadata": {
        "colab": {
          "base_uri": "https://localhost:8080/"
        },
        "id": "ef51jfRWstJI",
        "outputId": "9c06ef38-970c-4290-ba95-0242ecb1ace5"
      },
      "execution_count": null,
      "outputs": [
        {
          "output_type": "stream",
          "name": "stdout",
          "text": [
            "[[18 16 10]\n",
            " [19 18 10]\n",
            " [11 10 11]\n",
            " [12 11 13]\n",
            " [12 13 14]\n",
            " [16 19 13]]\n"
          ]
        }
      ]
    },
    {
      "cell_type": "code",
      "source": [
        "arr1=np.random.randint(low=10,high=20,size=(6,3,5))\n",
        "print(arr1)"
      ],
      "metadata": {
        "colab": {
          "base_uri": "https://localhost:8080/"
        },
        "id": "Vh01aABos730",
        "outputId": "b447a264-736c-4443-b7f9-3f9969f0c297"
      },
      "execution_count": null,
      "outputs": [
        {
          "output_type": "stream",
          "name": "stdout",
          "text": [
            "[[[10 14 18 11 19]\n",
            "  [17 17 13 17 11]\n",
            "  [11 18 11 18 10]]\n",
            "\n",
            " [[16 18 19 13 15]\n",
            "  [11 13 12 12 17]\n",
            "  [13 14 15 19 18]]\n",
            "\n",
            " [[16 16 17 11 19]\n",
            "  [14 10 17 16 15]\n",
            "  [18 12 13 12 16]]\n",
            "\n",
            " [[11 11 12 15 18]\n",
            "  [13 18 13 19 12]\n",
            "  [12 13 13 18 11]]\n",
            "\n",
            " [[18 17 19 10 15]\n",
            "  [16 16 16 12 16]\n",
            "  [15 14 12 16 11]]\n",
            "\n",
            " [[15 15 16 12 13]\n",
            "  [17 13 12 13 17]\n",
            "  [10 10 12 18 15]]]\n"
          ]
        }
      ]
    },
    {
      "cell_type": "code",
      "source": [
        "arr1=np.random.randint(low=10,high=20,size=(6,3,2,2))\n",
        "print(arr1)"
      ],
      "metadata": {
        "colab": {
          "base_uri": "https://localhost:8080/"
        },
        "id": "dHBksK7buGoY",
        "outputId": "ba7a8be1-7b11-4550-cb58-2a478f64c844"
      },
      "execution_count": null,
      "outputs": [
        {
          "output_type": "stream",
          "name": "stdout",
          "text": [
            "[[[[13 10]\n",
            "   [13 10]]\n",
            "\n",
            "  [[13 15]\n",
            "   [13 16]]\n",
            "\n",
            "  [[12 16]\n",
            "   [13 17]]]\n",
            "\n",
            "\n",
            " [[[16 14]\n",
            "   [18 12]]\n",
            "\n",
            "  [[14 11]\n",
            "   [12 15]]\n",
            "\n",
            "  [[12 12]\n",
            "   [10 16]]]\n",
            "\n",
            "\n",
            " [[[14 12]\n",
            "   [10 16]]\n",
            "\n",
            "  [[14 10]\n",
            "   [10 10]]\n",
            "\n",
            "  [[10 19]\n",
            "   [14 11]]]\n",
            "\n",
            "\n",
            " [[[14 15]\n",
            "   [19 13]]\n",
            "\n",
            "  [[18 10]\n",
            "   [19 17]]\n",
            "\n",
            "  [[11 10]\n",
            "   [12 19]]]\n",
            "\n",
            "\n",
            " [[[16 10]\n",
            "   [17 12]]\n",
            "\n",
            "  [[11 18]\n",
            "   [15 12]]\n",
            "\n",
            "  [[12 11]\n",
            "   [17 10]]]\n",
            "\n",
            "\n",
            " [[[12 16]\n",
            "   [13 13]]\n",
            "\n",
            "  [[16 17]\n",
            "   [10 17]]\n",
            "\n",
            "  [[14 15]\n",
            "   [11 14]]]]\n"
          ]
        }
      ]
    },
    {
      "cell_type": "code",
      "source": [
        "arr1=np.array([[1,2,3],[4,5,6]])\n",
        "print(arr1+2)"
      ],
      "metadata": {
        "colab": {
          "base_uri": "https://localhost:8080/"
        },
        "id": "mrKosC_eucKN",
        "outputId": "cf37f6d6-b0ef-44fb-b2be-4e501252c35c"
      },
      "execution_count": null,
      "outputs": [
        {
          "output_type": "stream",
          "name": "stdout",
          "text": [
            "[[3 4 5]\n",
            " [6 7 8]]\n"
          ]
        }
      ]
    },
    {
      "cell_type": "code",
      "source": [
        "arr1=np.array([[1,2,3],[4,5,6]])\n",
        "print(arr1+2)\n",
        "print(arr1*2)\n"
      ],
      "metadata": {
        "colab": {
          "base_uri": "https://localhost:8080/"
        },
        "id": "NlBRwQpfwVXb",
        "outputId": "4c3b02f8-4cd7-4948-db8d-a4238b6a5cf2"
      },
      "execution_count": null,
      "outputs": [
        {
          "output_type": "stream",
          "name": "stdout",
          "text": [
            "[[3 4 5]\n",
            " [6 7 8]]\n",
            "[[ 2  4  6]\n",
            " [ 8 10 12]]\n"
          ]
        }
      ]
    },
    {
      "cell_type": "markdown",
      "source": [
        "create a linear dataset\n",
        "create a simple dataset consisting og single and a label as follows\n",
        "1. assign a sequence of integers from 6 to 20 to a numpy array named feature\n",
        "2.\n"
      ],
      "metadata": {
        "id": "3f4h7f40w9iD"
      }
    },
    {
      "cell_type": "code",
      "source": [
        "feature=np.arange(6,21)\n",
        "print(arr1)\n",
        "label=(3)*feature+4\n",
        "for i in range(16):\n",
        "  np.label.append(i)\n",
        "print(label)  \n"
      ],
      "metadata": {
        "colab": {
          "base_uri": "https://localhost:8080/",
          "height": 358
        },
        "id": "8VrPH6dOwlyl",
        "outputId": "e8e4d0e0-de55-43f2-bdea-dca482438224"
      },
      "execution_count": null,
      "outputs": [
        {
          "output_type": "stream",
          "name": "stdout",
          "text": [
            "[ 6  7  8  9 10 11 12 13 14 15 16 17 18 19 20]\n"
          ]
        },
        {
          "output_type": "error",
          "ename": "AttributeError",
          "evalue": "ignored",
          "traceback": [
            "\u001b[0;31m---------------------------------------------------------------------------\u001b[0m",
            "\u001b[0;31mAttributeError\u001b[0m                            Traceback (most recent call last)",
            "\u001b[0;32m<ipython-input-67-05f102d707bd>\u001b[0m in \u001b[0;36m<module>\u001b[0;34m\u001b[0m\n\u001b[1;32m      3\u001b[0m \u001b[0mlabel\u001b[0m\u001b[0;34m=\u001b[0m\u001b[0;34m(\u001b[0m\u001b[0;36m3\u001b[0m\u001b[0;34m)\u001b[0m\u001b[0;34m*\u001b[0m\u001b[0mfeature\u001b[0m\u001b[0;34m+\u001b[0m\u001b[0;36m4\u001b[0m\u001b[0;34m\u001b[0m\u001b[0;34m\u001b[0m\u001b[0m\n\u001b[1;32m      4\u001b[0m \u001b[0;32mfor\u001b[0m \u001b[0mi\u001b[0m \u001b[0;32min\u001b[0m \u001b[0mrange\u001b[0m\u001b[0;34m(\u001b[0m\u001b[0;36m16\u001b[0m\u001b[0;34m)\u001b[0m\u001b[0;34m:\u001b[0m\u001b[0;34m\u001b[0m\u001b[0;34m\u001b[0m\u001b[0m\n\u001b[0;32m----> 5\u001b[0;31m   \u001b[0mnp\u001b[0m\u001b[0;34m.\u001b[0m\u001b[0mlabel\u001b[0m\u001b[0;34m.\u001b[0m\u001b[0mappend\u001b[0m\u001b[0;34m(\u001b[0m\u001b[0mi\u001b[0m\u001b[0;34m)\u001b[0m\u001b[0;34m\u001b[0m\u001b[0;34m\u001b[0m\u001b[0m\n\u001b[0m\u001b[1;32m      6\u001b[0m \u001b[0mprint\u001b[0m\u001b[0;34m(\u001b[0m\u001b[0mlabel\u001b[0m\u001b[0;34m)\u001b[0m\u001b[0;34m\u001b[0m\u001b[0;34m\u001b[0m\u001b[0m\n",
            "\u001b[0;32m/usr/local/lib/python3.8/dist-packages/numpy/__init__.py\u001b[0m in \u001b[0;36m__getattr__\u001b[0;34m(attr)\u001b[0m\n\u001b[1;32m    311\u001b[0m                 \u001b[0;32mreturn\u001b[0m \u001b[0mTester\u001b[0m\u001b[0;34m\u001b[0m\u001b[0;34m\u001b[0m\u001b[0m\n\u001b[1;32m    312\u001b[0m \u001b[0;34m\u001b[0m\u001b[0m\n\u001b[0;32m--> 313\u001b[0;31m             raise AttributeError(\"module {!r} has no attribute \"\n\u001b[0m\u001b[1;32m    314\u001b[0m                                  \"{!r}\".format(__name__, attr))\n\u001b[1;32m    315\u001b[0m \u001b[0;34m\u001b[0m\u001b[0m\n",
            "\u001b[0;31mAttributeError\u001b[0m: module 'numpy' has no attribute 'label'"
          ]
        }
      ]
    },
    {
      "cell_type": "code",
      "source": [
        "()"
      ],
      "metadata": {
        "id": "T83NiIWMxrm1"
      },
      "execution_count": null,
      "outputs": []
    }
  ]
}